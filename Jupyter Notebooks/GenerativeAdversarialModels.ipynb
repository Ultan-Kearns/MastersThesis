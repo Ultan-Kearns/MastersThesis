{
  "nbformat": 4,
  "nbformat_minor": 0,
  "metadata": {
    "colab": {
      "provenance": [],
      "machine_shape": "hm"
    },
    "kernelspec": {
      "name": "python3",
      "display_name": "Python 3"
    },
    "language_info": {
      "name": "python"
    },
    "gpuClass": "standard"
  },
  "cells": [
    {
      "cell_type": "code",
      "source": [
        "from google.colab import drive\n",
        "drive.mount('/content/gdrive')\n",
        "!ls \"/content/gdrive/My Drive/COVID-19_Radiography_Dataset\"\n"
      ],
      "metadata": {
        "colab": {
          "base_uri": "https://localhost:8080/"
        },
        "id": "i-KAqwHSkFqu",
        "outputId": "5564aa5f-8737-42e9-c977-7952cc7e5f62"
      },
      "execution_count": 2,
      "outputs": [
        {
          "output_type": "stream",
          "name": "stdout",
          "text": [
            "Drive already mounted at /content/gdrive; to attempt to forcibly remount, call drive.mount(\"/content/gdrive\", force_remount=True).\n",
            " COVID\t\t\t      Normal.metadata.xlsx\n",
            " COVID.metadata.xlsx\t      README.md.txt\n",
            " Lung_Opacity.metadata.xlsx  'Viral Pneumonia'\n",
            " Normal\t\t\t     'Viral Pneumonia.metadata.xlsx'\n"
          ]
        }
      ]
    },
    {
      "cell_type": "code",
      "execution_count": 42,
      "metadata": {
        "id": "u4JUZUnIjArU"
      },
      "outputs": [],
      "source": [
        "import keras \n",
        "import pandas as pd\n",
        "import tensorflow as tf\n",
        "import glob\n",
        "import imageio\n",
        "import matplotlib.pyplot as plt\n",
        "import numpy as np\n",
        "import os\n",
        "import PIL\n",
        "from tensorflow.keras import layers\n",
        "import time\n",
        "from IPython import display\n",
        "from sklearn.model_selection import train_test_split\n",
        "from tensorflow.keras.layers import Layer, Conv2D, Flatten, Dense, Reshape, Conv2DTranspose\n",
        "from tensorflow.keras import Input, Model\n",
        "from tensorflow.keras.utils import img_to_array\n",
        "\n",
        "# for reproducibility - ref https://machinelearningmastery.com/reproducible-results-neural-networks-keras/ and https://www.tensorflow.org/api_docs/python/tf/keras/utils/set_random_seed\n",
        "np.random.seed(9)\n",
        "tf.keras.utils.set_random_seed(10)\n",
        "\n",
        "# loading data from gdrive\n",
        "chest_xray_dataset = os.path.abspath(\"/content/gdrive/My Drive/COVID 19 CHEST XRAY/images\")\n",
        "chest_xray_dataset_annotations = os.path.abspath(\"/content/gdrive/My Drive/COVID 19 CHEST XRAY/metadata.csv\")\n",
        "radiography_dataset = os.path.abspath(\"/content/gdrive/My Drive/COVID-19_Radiography_Dataset/\")\n",
        "xray_covid19_dataset = os.path.abspath(\"/content/gdrive/My Drive/xray_dataset_covid19/\")\n",
        "\n"
      ]
    },
    {
      "cell_type": "code",
      "source": [
        "# load images\n",
        "import matplotlib.pyplot as plt\n",
        "from keras.preprocessing.image import ImageDataGenerator\n",
        "\n",
        "image_size = (300, 300)\n",
        "batch_size = 16\n",
        "train_datagen = ImageDataGenerator(rescale=1./255)\n",
        "train_generator = train_datagen.flow_from_directory(radiography_dataset, target_size=image_size, batch_size=16)\n",
        "X, y = train_generator.next()\n",
        "X = X.astype(np.float32) / 255.0\n",
        "print(X.shape)"
      ],
      "metadata": {
        "id": "qSpMb9aHjQT4",
        "colab": {
          "base_uri": "https://localhost:8080/"
        },
        "outputId": "f432f0ee-e291-4a9c-af3f-4b873e4d38b6"
      },
      "execution_count": null,
      "outputs": [
        {
          "output_type": "stream",
          "name": "stdout",
          "text": [
            "Found 30306 images belonging to 3 classes.\n",
            "(16, 299, 299, 3)\n"
          ]
        }
      ]
    },
    {
      "cell_type": "markdown",
      "source": [
        "# Code taken from ref https://keras.io/examples/generative/vae/ and refactored"
      ],
      "metadata": {
        "id": "TndIIeA7R5IK"
      }
    },
    {
      "cell_type": "code",
      "source": [
        "\n",
        "class Sampling(layers.Layer):\n",
        "    \"\"\"Uses (z_mean, z_log_var) to sample z, the vector encoding a digit.\"\"\"\n",
        "\n",
        "    def call(self, inputs):\n",
        "        z_mean, z_log_var = inputs\n",
        "        batch = tf.shape(z_mean)[0]\n",
        "        dim = tf.shape(z_mean)[1]\n",
        "        epsilon = tf.keras.backend.random_normal(shape=(batch, dim))\n",
        "        return z_mean + tf.exp(0.5 * z_log_var) * epsilon\n"
      ],
      "metadata": {
        "id": "8NKKXZDF3P5o"
      },
      "execution_count": null,
      "outputs": []
    },
    {
      "cell_type": "code",
      "source": [
        "latent_dim = 2\n",
        "\n",
        "encoder_inputs = keras.Input(shape=(300, 300, 3))\n",
        "x = layers.Conv2D(32, 3, activation=\"relu\", strides=2, padding=\"same\")(encoder_inputs)\n",
        "x = layers.Conv2D(64, 3, activation=\"relu\", strides=2, padding=\"same\")(x)\n",
        "x = layers.Conv2D(128, 3, activation=\"relu\", strides=2, padding=\"same\")(x)\n",
        "x = layers.Conv2D(256, 3, activation=\"relu\", strides=2, padding=\"same\")(x)\n",
        "x = layers.Conv2D(512, 3, activation=\"relu\", strides=2, padding=\"same\")(x)\n",
        "\n",
        "x = layers.Flatten()(x)\n",
        "x = layers.Dense(16, activation=\"relu\")(x)\n",
        "z_mean = layers.Dense(latent_dim, name=\"z_mean\")(x)\n",
        "z_log_var = layers.Dense(latent_dim, name=\"z_log_var\")(x)\n",
        "z = Sampling()([z_mean, z_log_var])\n",
        "encoder = keras.Model(encoder_inputs, [z_mean, z_log_var, z], name=\"encoder\")\n",
        "encoder.summary()"
      ],
      "metadata": {
        "id": "hRqfi82oD8q3",
        "outputId": "40a26a0b-d528-4f88-994a-f209d9b51cca",
        "colab": {
          "base_uri": "https://localhost:8080/"
        }
      },
      "execution_count": null,
      "outputs": [
        {
          "output_type": "stream",
          "name": "stdout",
          "text": [
            "Model: \"encoder\"\n",
            "__________________________________________________________________________________________________\n",
            " Layer (type)                   Output Shape         Param #     Connected to                     \n",
            "==================================================================================================\n",
            " input_104 (InputLayer)         [(None, 300, 300, 3  0           []                               \n",
            "                                )]                                                                \n",
            "                                                                                                  \n",
            " conv2d_26 (Conv2D)             (None, 150, 150, 32  896         ['input_104[0][0]']              \n",
            "                                )                                                                 \n",
            "                                                                                                  \n",
            " conv2d_27 (Conv2D)             (None, 75, 75, 64)   18496       ['conv2d_26[0][0]']              \n",
            "                                                                                                  \n",
            " conv2d_28 (Conv2D)             (None, 38, 38, 128)  73856       ['conv2d_27[0][0]']              \n",
            "                                                                                                  \n",
            " conv2d_29 (Conv2D)             (None, 19, 19, 256)  295168      ['conv2d_28[0][0]']              \n",
            "                                                                                                  \n",
            " conv2d_30 (Conv2D)             (None, 10, 10, 512)  1180160     ['conv2d_29[0][0]']              \n",
            "                                                                                                  \n",
            " flatten_13 (Flatten)           (None, 51200)        0           ['conv2d_30[0][0]']              \n",
            "                                                                                                  \n",
            " dense_103 (Dense)              (None, 16)           819216      ['flatten_13[0][0]']             \n",
            "                                                                                                  \n",
            " z_mean (Dense)                 (None, 2)            34          ['dense_103[0][0]']              \n",
            "                                                                                                  \n",
            " z_log_var (Dense)              (None, 2)            34          ['dense_103[0][0]']              \n",
            "                                                                                                  \n",
            " sampling_13 (Sampling)         (None, 2)            0           ['z_mean[0][0]',                 \n",
            "                                                                  'z_log_var[0][0]']              \n",
            "                                                                                                  \n",
            "==================================================================================================\n",
            "Total params: 2,387,860\n",
            "Trainable params: 2,387,860\n",
            "Non-trainable params: 0\n",
            "__________________________________________________________________________________________________\n"
          ]
        }
      ]
    },
    {
      "cell_type": "code",
      "source": [
        "latent_inputs = keras.Input(shape=(latent_dim,))\n",
        "x = layers.Dense(1600, activation=\"relu\")(latent_inputs)\n",
        "x = layers.Reshape((5, 5, 64))(x)\n",
        "x = layers.Conv2DTranspose(64, 3, activation=\"relu\", strides=2, padding=\"same\")(x)\n",
        "x = layers.Conv2DTranspose(32, 3, activation=\"relu\", strides=2, padding=\"same\")(x)\n",
        "decoder_outputs = layers.Conv2DTranspose(3, 3,15, activation=\"sigmoid\", padding=\"same\")(x)\n",
        "decoder = keras.Model(latent_inputs, decoder_outputs, name=\"decoder\")\n",
        "decoder.summary()"
      ],
      "metadata": {
        "id": "Rl-lUO8PnvxI",
        "outputId": "39d71c82-89fe-4bd2-b2c2-cc58bfbe5090",
        "colab": {
          "base_uri": "https://localhost:8080/"
        }
      },
      "execution_count": null,
      "outputs": [
        {
          "output_type": "stream",
          "name": "stdout",
          "text": [
            "Model: \"decoder\"\n",
            "_________________________________________________________________\n",
            " Layer (type)                Output Shape              Param #   \n",
            "=================================================================\n",
            " input_105 (InputLayer)      [(None, 2)]               0         \n",
            "                                                                 \n",
            " dense_104 (Dense)           (None, 1600)              4800      \n",
            "                                                                 \n",
            " reshape_90 (Reshape)        (None, 5, 5, 64)          0         \n",
            "                                                                 \n",
            " conv2d_transpose_254 (Conv2  (None, 10, 10, 64)       36928     \n",
            " DTranspose)                                                     \n",
            "                                                                 \n",
            " conv2d_transpose_255 (Conv2  (None, 20, 20, 32)       18464     \n",
            " DTranspose)                                                     \n",
            "                                                                 \n",
            " conv2d_transpose_256 (Conv2  (None, 300, 300, 3)      867       \n",
            " DTranspose)                                                     \n",
            "                                                                 \n",
            "=================================================================\n",
            "Total params: 61,059\n",
            "Trainable params: 61,059\n",
            "Non-trainable params: 0\n",
            "_________________________________________________________________\n"
          ]
        }
      ]
    },
    {
      "cell_type": "code",
      "source": [
        "\n",
        "\n",
        "class VAE(keras.Model):\n",
        "    def __init__(self, encoder, decoder, **kwargs):\n",
        "        super().__init__(**kwargs)\n",
        "        self.encoder = encoder\n",
        "        self.decoder = decoder\n",
        "        self.total_loss_tracker = keras.metrics.Mean(name=\"total_loss\")\n",
        "        self.reconstruction_loss_tracker = keras.metrics.Mean(\n",
        "            name=\"reconstruction_loss\"\n",
        "        )\n",
        "        self.kl_loss_tracker = keras.metrics.Mean(name=\"kl_loss\")\n",
        "\n",
        "    @property\n",
        "    def metrics(self):\n",
        "        return [\n",
        "            self.total_loss_tracker,\n",
        "            self.reconstruction_loss_tracker,\n",
        "            self.kl_loss_tracker,\n",
        "        ]\n",
        "\n",
        "    def train_step(self, data):\n",
        "        with tf.GradientTape() as tape:\n",
        "            z_mean, z_log_var, z = self.encoder(data)\n",
        "            reconstruction = self.decoder(z)\n",
        "            reconstruction_loss = tf.reduce_mean(\n",
        "                tf.reduce_sum(\n",
        "                    keras.losses.binary_crossentropy(data, reconstruction), axis=(1, 2)\n",
        "                )\n",
        "            )\n",
        "            kl_loss = -0.5 * (1 + z_log_var - tf.square(z_mean) - tf.exp(z_log_var))\n",
        "            kl_loss = tf.reduce_mean(tf.reduce_sum(kl_loss, axis=1))\n",
        "            total_loss = reconstruction_loss + kl_loss\n",
        "        grads = tape.gradient(total_loss, self.trainable_weights)\n",
        "        self.optimizer.apply_gradients(zip(grads, self.trainable_weights))\n",
        "        self.total_loss_tracker.update_state(total_loss)\n",
        "        self.reconstruction_loss_tracker.update_state(reconstruction_loss)\n",
        "        self.kl_loss_tracker.update_state(kl_loss)\n",
        "        return {\n",
        "            \"loss\": self.total_loss_tracker.result(),\n",
        "            \"reconstruction_loss\": self.reconstruction_loss_tracker.result(),\n",
        "            \"kl_loss\": self.kl_loss_tracker.result(),\n",
        "        }\n"
      ],
      "metadata": {
        "id": "cpS-v1V3nx3a"
      },
      "execution_count": null,
      "outputs": []
    },
    {
      "cell_type": "code",
      "source": [
        "#(x_train, _), (x_test, _) = keras.datasets.mnist.load_data()\n",
        "#mnist_digits = np.concatenate([x_train, x_test], axis=0)\n",
        "#mnist_digits = np.expand_dims(mnist_digits, -1).astype(\"float32\") / 255\n",
        " \n",
        "vae = VAE(encoder, decoder)\n",
        "vae.compile(optimizer=keras.optimizers.Adam())\n",
        "vae.fit(X, epochs=100, batch_size=128)"
      ],
      "metadata": {
        "id": "15ivoe-vnzsC",
        "outputId": "ea87b810-455a-443f-acf0-6dc34c7a9e95",
        "colab": {
          "base_uri": "https://localhost:8080/"
        }
      },
      "execution_count": null,
      "outputs": [
        {
          "output_type": "stream",
          "name": "stdout",
          "text": [
            "Epoch 1/100\n",
            "1/1 [==============================] - 2s 2s/step - loss: 62383.4492 - reconstruction_loss: 62383.4492 - kl_loss: 0.0000e+00\n",
            "Epoch 2/100\n",
            "1/1 [==============================] - 1s 794ms/step - loss: 62337.7266 - reconstruction_loss: 62337.7266 - kl_loss: 4.8917e-05\n",
            "Epoch 3/100\n",
            "1/1 [==============================] - 1s 788ms/step - loss: 62291.9844 - reconstruction_loss: 62291.9805 - kl_loss: 0.0022\n",
            "Epoch 4/100\n",
            "1/1 [==============================] - 1s 755ms/step - loss: 62245.8242 - reconstruction_loss: 62245.7812 - kl_loss: 0.0433\n",
            "Epoch 5/100\n",
            "1/1 [==============================] - 1s 782ms/step - loss: 62199.5352 - reconstruction_loss: 62199.1172 - kl_loss: 0.4167\n",
            "Epoch 6/100\n",
            "1/1 [==============================] - 1s 791ms/step - loss: 62153.4375 - reconstruction_loss: 62150.8398 - kl_loss: 2.5986\n",
            "Epoch 7/100\n",
            "1/1 [==============================] - 1s 800ms/step - loss: 62105.9180 - reconstruction_loss: 62105.4141 - kl_loss: 0.5028\n",
            "Epoch 8/100\n",
            "1/1 [==============================] - 1s 786ms/step - loss: 62059.2891 - reconstruction_loss: 62059.0000 - kl_loss: 0.2898\n",
            "Epoch 9/100\n",
            "1/1 [==============================] - 1s 762ms/step - loss: 62008.1992 - reconstruction_loss: 62007.7812 - kl_loss: 0.4188\n",
            "Epoch 10/100\n",
            "1/1 [==============================] - 1s 783ms/step - loss: 61955.4688 - reconstruction_loss: 61953.6484 - kl_loss: 1.8186\n",
            "Epoch 11/100\n",
            "1/1 [==============================] - 1s 812ms/step - loss: 61889.2148 - reconstruction_loss: 61872.1328 - kl_loss: 17.0829\n",
            "Epoch 12/100\n",
            "1/1 [==============================] - 1s 811ms/step - loss: 62628.4883 - reconstruction_loss: 61453.6172 - kl_loss: 1174.8723\n",
            "Epoch 13/100\n",
            "1/1 [==============================] - 1s 798ms/step - loss: 61797.3516 - reconstruction_loss: 61748.3047 - kl_loss: 49.0452\n",
            "Epoch 14/100\n",
            "1/1 [==============================] - 1s 770ms/step - loss: 61738.6250 - reconstruction_loss: 61731.3984 - kl_loss: 7.2261\n",
            "Epoch 15/100\n",
            "1/1 [==============================] - 1s 776ms/step - loss: 61706.5039 - reconstruction_loss: 61704.6094 - kl_loss: 1.8944\n",
            "Epoch 16/100\n",
            "1/1 [==============================] - 1s 821ms/step - loss: 61656.6875 - reconstruction_loss: 61656.0469 - kl_loss: 0.6425\n",
            "Epoch 17/100\n",
            "1/1 [==============================] - 1s 981ms/step - loss: 61614.4609 - reconstruction_loss: 61614.2070 - kl_loss: 0.2523\n",
            "Epoch 18/100\n",
            "1/1 [==============================] - 1s 980ms/step - loss: 61562.2734 - reconstruction_loss: 61562.1641 - kl_loss: 0.1102\n",
            "Epoch 19/100\n",
            "1/1 [==============================] - 1s 1s/step - loss: 61513.1523 - reconstruction_loss: 61513.1016 - kl_loss: 0.0526\n",
            "Epoch 20/100\n",
            "1/1 [==============================] - 1s 919ms/step - loss: 61456.9492 - reconstruction_loss: 61456.9219 - kl_loss: 0.0277\n",
            "Epoch 21/100\n",
            "1/1 [==============================] - 1s 771ms/step - loss: 61396.4766 - reconstruction_loss: 61396.4609 - kl_loss: 0.0160\n",
            "Epoch 22/100\n",
            "1/1 [==============================] - 1s 780ms/step - loss: 61339.8359 - reconstruction_loss: 61339.8242 - kl_loss: 0.0102\n",
            "Epoch 23/100\n",
            "1/1 [==============================] - 1s 762ms/step - loss: 61276.7891 - reconstruction_loss: 61276.7812 - kl_loss: 0.0072\n",
            "Epoch 24/100\n",
            "1/1 [==============================] - 1s 775ms/step - loss: 61228.5195 - reconstruction_loss: 61228.5156 - kl_loss: 0.0057\n",
            "Epoch 25/100\n",
            "1/1 [==============================] - 1s 763ms/step - loss: 61160.4531 - reconstruction_loss: 61160.4492 - kl_loss: 0.0052\n",
            "Epoch 26/100\n",
            "1/1 [==============================] - 1s 774ms/step - loss: 61100.7773 - reconstruction_loss: 61100.7734 - kl_loss: 0.0052\n",
            "Epoch 27/100\n",
            "1/1 [==============================] - 1s 795ms/step - loss: 61011.4102 - reconstruction_loss: 61011.4062 - kl_loss: 0.0058\n",
            "Epoch 28/100\n",
            "1/1 [==============================] - 1s 800ms/step - loss: 60971.3125 - reconstruction_loss: 60971.3047 - kl_loss: 0.0072\n",
            "Epoch 29/100\n",
            "1/1 [==============================] - 1s 779ms/step - loss: 60864.2930 - reconstruction_loss: 60864.2852 - kl_loss: 0.0097\n",
            "Epoch 30/100\n",
            "1/1 [==============================] - 1s 803ms/step - loss: 60802.9570 - reconstruction_loss: 60802.9453 - kl_loss: 0.0131\n",
            "Epoch 31/100\n",
            "1/1 [==============================] - 1s 777ms/step - loss: 60722.0469 - reconstruction_loss: 60722.0273 - kl_loss: 0.0185\n",
            "Epoch 32/100\n",
            "1/1 [==============================] - 1s 777ms/step - loss: 60607.7539 - reconstruction_loss: 60607.7266 - kl_loss: 0.0270\n",
            "Epoch 33/100\n",
            "1/1 [==============================] - 1s 794ms/step - loss: 60539.4922 - reconstruction_loss: 60539.4531 - kl_loss: 0.0404\n",
            "Epoch 34/100\n",
            "1/1 [==============================] - 1s 810ms/step - loss: 60436.4961 - reconstruction_loss: 60436.4336 - kl_loss: 0.0622\n",
            "Epoch 35/100\n",
            "1/1 [==============================] - 1s 793ms/step - loss: 60299.5703 - reconstruction_loss: 60299.4766 - kl_loss: 0.0946\n",
            "Epoch 36/100\n",
            "1/1 [==============================] - 1s 796ms/step - loss: 60167.8711 - reconstruction_loss: 60167.7266 - kl_loss: 0.1449\n",
            "Epoch 37/100\n",
            "1/1 [==============================] - 1s 781ms/step - loss: 60081.4414 - reconstruction_loss: 60081.2109 - kl_loss: 0.2300\n",
            "Epoch 38/100\n",
            "1/1 [==============================] - 1s 795ms/step - loss: 59865.7188 - reconstruction_loss: 59865.3438 - kl_loss: 0.3752\n",
            "Epoch 39/100\n",
            "1/1 [==============================] - 1s 775ms/step - loss: 59747.4375 - reconstruction_loss: 59746.8203 - kl_loss: 0.6175\n",
            "Epoch 40/100\n",
            "1/1 [==============================] - 1s 770ms/step - loss: 59650.7109 - reconstruction_loss: 59649.6680 - kl_loss: 1.0415\n",
            "Epoch 41/100\n",
            "1/1 [==============================] - 1s 803ms/step - loss: 59301.9805 - reconstruction_loss: 59300.1562 - kl_loss: 1.8247\n",
            "Epoch 42/100\n",
            "1/1 [==============================] - 1s 776ms/step - loss: 59309.3633 - reconstruction_loss: 59306.0430 - kl_loss: 3.3203\n",
            "Epoch 43/100\n",
            "1/1 [==============================] - 1s 768ms/step - loss: 58944.3086 - reconstruction_loss: 58937.9062 - kl_loss: 6.4037\n",
            "Epoch 44/100\n",
            "1/1 [==============================] - 1s 799ms/step - loss: 58753.7617 - reconstruction_loss: 58740.2422 - kl_loss: 13.5200\n",
            "Epoch 45/100\n",
            "1/1 [==============================] - 1s 796ms/step - loss: 58445.3984 - reconstruction_loss: 58412.7578 - kl_loss: 32.6415\n",
            "Epoch 46/100\n",
            "1/1 [==============================] - 1s 808ms/step - loss: 58433.3555 - reconstruction_loss: 58337.0430 - kl_loss: 96.3106\n",
            "Epoch 47/100\n",
            "1/1 [==============================] - 1s 770ms/step - loss: 58473.9922 - reconstruction_loss: 58146.6602 - kl_loss: 327.3339\n",
            "Epoch 48/100\n",
            "1/1 [==============================] - 1s 825ms/step - loss: 58425.7734 - reconstruction_loss: 58146.7422 - kl_loss: 279.0304\n",
            "Epoch 49/100\n",
            "1/1 [==============================] - 1s 796ms/step - loss: 58222.5664 - reconstruction_loss: 58057.2148 - kl_loss: 165.3506\n",
            "Epoch 50/100\n",
            "1/1 [==============================] - 1s 799ms/step - loss: 58175.7266 - reconstruction_loss: 58084.7891 - kl_loss: 90.9389\n",
            "Epoch 51/100\n",
            "1/1 [==============================] - 1s 778ms/step - loss: 58018.6602 - reconstruction_loss: 57965.3359 - kl_loss: 53.3262\n",
            "Epoch 52/100\n",
            "1/1 [==============================] - 1s 798ms/step - loss: 57940.5977 - reconstruction_loss: 57904.5508 - kl_loss: 36.0476\n",
            "Epoch 53/100\n",
            "1/1 [==============================] - 1s 816ms/step - loss: 57918.7461 - reconstruction_loss: 57891.6953 - kl_loss: 27.0499\n",
            "Epoch 54/100\n",
            "1/1 [==============================] - 1s 827ms/step - loss: 57904.0000 - reconstruction_loss: 57882.2266 - kl_loss: 21.7732\n",
            "Epoch 55/100\n",
            "1/1 [==============================] - 1s 819ms/step - loss: 57852.8438 - reconstruction_loss: 57834.3711 - kl_loss: 18.4721\n",
            "Epoch 56/100\n",
            "1/1 [==============================] - 1s 805ms/step - loss: 57784.8945 - reconstruction_loss: 57768.3477 - kl_loss: 16.5466\n",
            "Epoch 57/100\n",
            "1/1 [==============================] - 1s 795ms/step - loss: 57735.0938 - reconstruction_loss: 57719.8047 - kl_loss: 15.2901\n",
            "Epoch 58/100\n",
            "1/1 [==============================] - 1s 816ms/step - loss: 57677.1172 - reconstruction_loss: 57662.8828 - kl_loss: 14.2359\n",
            "Epoch 59/100\n",
            "1/1 [==============================] - 1s 810ms/step - loss: 57615.0938 - reconstruction_loss: 57601.4609 - kl_loss: 13.6339\n",
            "Epoch 60/100\n",
            "1/1 [==============================] - 1s 799ms/step - loss: 57554.4297 - reconstruction_loss: 57540.9062 - kl_loss: 13.5215\n",
            "Epoch 61/100\n",
            "1/1 [==============================] - 1s 764ms/step - loss: 57542.9961 - reconstruction_loss: 57529.3438 - kl_loss: 13.6534\n",
            "Epoch 62/100\n",
            "1/1 [==============================] - 1s 803ms/step - loss: 57487.6992 - reconstruction_loss: 57473.6992 - kl_loss: 14.0005\n",
            "Epoch 63/100\n",
            "1/1 [==============================] - 1s 799ms/step - loss: 57432.1836 - reconstruction_loss: 57417.5508 - kl_loss: 14.6320\n",
            "Epoch 64/100\n",
            "1/1 [==============================] - 1s 780ms/step - loss: 57367.8320 - reconstruction_loss: 57352.3828 - kl_loss: 15.4510\n",
            "Epoch 65/100\n",
            "1/1 [==============================] - 1s 780ms/step - loss: 57333.0117 - reconstruction_loss: 57316.8984 - kl_loss: 16.1142\n",
            "Epoch 66/100\n",
            "1/1 [==============================] - 1s 789ms/step - loss: 57281.0938 - reconstruction_loss: 57264.4336 - kl_loss: 16.6585\n",
            "Epoch 67/100\n",
            "1/1 [==============================] - 1s 856ms/step - loss: 57246.9453 - reconstruction_loss: 57229.9180 - kl_loss: 17.0279\n",
            "Epoch 68/100\n",
            "1/1 [==============================] - 1s 828ms/step - loss: 57196.2852 - reconstruction_loss: 57179.2266 - kl_loss: 17.0593\n",
            "Epoch 69/100\n",
            "1/1 [==============================] - 1s 806ms/step - loss: 57158.3945 - reconstruction_loss: 57141.3594 - kl_loss: 17.0371\n",
            "Epoch 70/100\n",
            "1/1 [==============================] - 1s 776ms/step - loss: 57112.8945 - reconstruction_loss: 57096.3945 - kl_loss: 16.5013\n",
            "Epoch 71/100\n",
            "1/1 [==============================] - 1s 816ms/step - loss: 57072.0977 - reconstruction_loss: 57056.5078 - kl_loss: 15.5889\n",
            "Epoch 72/100\n",
            "1/1 [==============================] - 1s 784ms/step - loss: 57031.2344 - reconstruction_loss: 57016.6953 - kl_loss: 14.5379\n",
            "Epoch 73/100\n",
            "1/1 [==============================] - 1s 799ms/step - loss: 56981.7930 - reconstruction_loss: 56968.5625 - kl_loss: 13.2317\n",
            "Epoch 74/100\n",
            "1/1 [==============================] - 1s 779ms/step - loss: 56945.5781 - reconstruction_loss: 56933.7109 - kl_loss: 11.8663\n",
            "Epoch 75/100\n",
            "1/1 [==============================] - 1s 788ms/step - loss: 56907.0000 - reconstruction_loss: 56896.4961 - kl_loss: 10.5037\n",
            "Epoch 76/100\n",
            "1/1 [==============================] - 1s 783ms/step - loss: 56857.2266 - reconstruction_loss: 56847.9375 - kl_loss: 9.2876\n",
            "Epoch 77/100\n",
            "1/1 [==============================] - 1s 811ms/step - loss: 56818.2227 - reconstruction_loss: 56809.9531 - kl_loss: 8.2702\n",
            "Epoch 78/100\n",
            "1/1 [==============================] - 1s 801ms/step - loss: 56785.1367 - reconstruction_loss: 56777.6562 - kl_loss: 7.4800\n",
            "Epoch 79/100\n",
            "1/1 [==============================] - 1s 787ms/step - loss: 56736.6680 - reconstruction_loss: 56729.7109 - kl_loss: 6.9587\n",
            "Epoch 80/100\n",
            "1/1 [==============================] - 1s 760ms/step - loss: 56703.9297 - reconstruction_loss: 56697.1211 - kl_loss: 6.8093\n",
            "Epoch 81/100\n",
            "1/1 [==============================] - 1s 765ms/step - loss: 56656.1875 - reconstruction_loss: 56649.4688 - kl_loss: 6.7190\n",
            "Epoch 82/100\n",
            "1/1 [==============================] - 1s 768ms/step - loss: 56609.5508 - reconstruction_loss: 56602.7891 - kl_loss: 6.7621\n",
            "Epoch 83/100\n",
            "1/1 [==============================] - 1s 796ms/step - loss: 56577.0938 - reconstruction_loss: 56570.6250 - kl_loss: 6.4681\n",
            "Epoch 84/100\n",
            "1/1 [==============================] - 1s 795ms/step - loss: 56528.4844 - reconstruction_loss: 56522.1094 - kl_loss: 6.3731\n",
            "Epoch 85/100\n",
            "1/1 [==============================] - 1s 790ms/step - loss: 56494.8242 - reconstruction_loss: 56488.5703 - kl_loss: 6.2530\n",
            "Epoch 86/100\n",
            "1/1 [==============================] - 1s 794ms/step - loss: 56446.1211 - reconstruction_loss: 56440.0156 - kl_loss: 6.1038\n",
            "Epoch 87/100\n",
            "1/1 [==============================] - 1s 798ms/step - loss: 56410.0977 - reconstruction_loss: 56404.1875 - kl_loss: 5.9118\n",
            "Epoch 88/100\n",
            "1/1 [==============================] - 1s 787ms/step - loss: 56367.8008 - reconstruction_loss: 56361.9570 - kl_loss: 5.8435\n",
            "Epoch 89/100\n",
            "1/1 [==============================] - 1s 839ms/step - loss: 56331.7812 - reconstruction_loss: 56326.0547 - kl_loss: 5.7250\n",
            "Epoch 90/100\n",
            "1/1 [==============================] - 1s 1s/step - loss: 56290.0391 - reconstruction_loss: 56284.3359 - kl_loss: 5.7044\n",
            "Epoch 91/100\n",
            "1/1 [==============================] - 1s 1s/step - loss: 56248.3086 - reconstruction_loss: 56242.7969 - kl_loss: 5.5133\n",
            "Epoch 92/100\n",
            "1/1 [==============================] - 1s 883ms/step - loss: 56203.7891 - reconstruction_loss: 56198.6406 - kl_loss: 5.1473\n",
            "Epoch 93/100\n",
            "1/1 [==============================] - 1s 773ms/step - loss: 56161.3906 - reconstruction_loss: 56156.6719 - kl_loss: 4.7193\n",
            "Epoch 94/100\n",
            "1/1 [==============================] - 1s 801ms/step - loss: 56126.6797 - reconstruction_loss: 56122.3594 - kl_loss: 4.3191\n",
            "Epoch 95/100\n",
            "1/1 [==============================] - 1s 784ms/step - loss: 56081.0586 - reconstruction_loss: 56077.0703 - kl_loss: 3.9900\n",
            "Epoch 96/100\n",
            "1/1 [==============================] - 1s 773ms/step - loss: 56040.5000 - reconstruction_loss: 56036.6836 - kl_loss: 3.8179\n",
            "Epoch 97/100\n",
            "1/1 [==============================] - 1s 775ms/step - loss: 55999.0391 - reconstruction_loss: 55995.3516 - kl_loss: 3.6888\n",
            "Epoch 98/100\n",
            "1/1 [==============================] - 1s 780ms/step - loss: 55962.9141 - reconstruction_loss: 55959.3633 - kl_loss: 3.5511\n",
            "Epoch 99/100\n",
            "1/1 [==============================] - 1s 772ms/step - loss: 55921.0469 - reconstruction_loss: 55917.5469 - kl_loss: 3.5017\n",
            "Epoch 100/100\n",
            "1/1 [==============================] - 1s 753ms/step - loss: 55879.0547 - reconstruction_loss: 55875.6875 - kl_loss: 3.3661\n"
          ]
        },
        {
          "output_type": "execute_result",
          "data": {
            "text/plain": [
              "<keras.callbacks.History at 0x7fddba4d97f0>"
            ]
          },
          "metadata": {},
          "execution_count": 164
        }
      ]
    },
    {
      "cell_type": "markdown",
      "source": [
        "# Code taken from https://keras.io/examples/generative/dcgan_overriding_train_step/ and refactored\n"
      ],
      "metadata": {
        "id": "vZTn2W0YR9WW"
      }
    },
    {
      "cell_type": "code",
      "source": [
        "# load images\n",
        "import matplotlib.pyplot as plt\n",
        "from keras.preprocessing.image import ImageDataGenerator\n",
        "\n",
        "image_size = (296, 296)\n",
        "batch_size = 16\n",
        "train_datagen = ImageDataGenerator(rescale=1./255)\n",
        "train_generator = train_datagen.flow_from_directory(radiography_dataset, target_size=image_size, batch_size=16)\n",
        "X, y = train_generator.next()\n",
        "X = X.astype(np.float32) / 255.0\n",
        "print(X.shape)"
      ],
      "metadata": {
        "colab": {
          "base_uri": "https://localhost:8080/"
        },
        "id": "9LpzVOLGUZHP",
        "outputId": "c2eb30c7-6fb2-4aa2-c6c6-54210e99347d"
      },
      "execution_count": 4,
      "outputs": [
        {
          "output_type": "stream",
          "name": "stdout",
          "text": [
            "Found 30306 images belonging to 3 classes.\n",
            "(16, 296, 296, 3)\n"
          ]
        }
      ]
    },
    {
      "cell_type": "code",
      "source": [
        "batch_size = 64\n",
        "num_channels = 1\n",
        "num_classes = 3\n",
        "image_size = 299\n",
        "latent_dim = 128"
      ],
      "metadata": {
        "id": "xqBHZFeEvnL1"
      },
      "execution_count": 26,
      "outputs": []
    },
    {
      "cell_type": "code",
      "source": [
        "generator_in_channels = latent_dim + num_classes\n",
        "discriminator_in_channels = num_channels + num_classes\n",
        "print(generator_in_channels, discriminator_in_channels)"
      ],
      "metadata": {
        "colab": {
          "base_uri": "https://localhost:8080/"
        },
        "id": "EpdanrS_Sf3K",
        "outputId": "448e01bf-41ac-4739-bb3b-df0b6078771f"
      },
      "execution_count": 27,
      "outputs": [
        {
          "output_type": "stream",
          "name": "stdout",
          "text": [
            "129 2\n"
          ]
        }
      ]
    },
    {
      "cell_type": "code",
      "source": [
        "# Create the discriminator.\n",
        "discriminator = keras.Sequential(\n",
        "    [\n",
        "        keras.Input(shape=(296, 296, 3)),\n",
        "        layers.Conv2D(256, kernel_size=4, strides=2, padding=\"same\"),\n",
        "        layers.LeakyReLU(alpha=0.2),\n",
        "        layers.Conv2D(128, kernel_size=4, strides=2, padding=\"same\"),\n",
        "        layers.LeakyReLU(alpha=0.2),\n",
        "        layers.Conv2D(128, kernel_size=4, strides=2, padding=\"same\"),\n",
        "        layers.LeakyReLU(alpha=0.2),\n",
        "        layers.Flatten(),\n",
        "        layers.Dropout(0.2),\n",
        "        layers.Dense(1, activation=\"softmax\"),\n",
        "    ],\n",
        "    name=\"discriminator\",\n",
        ")\n",
        "discriminator.summary()\n",
        "discriminator.summary()\n",
        "# Create the generator.\n",
        "generator = keras.Sequential(\n",
        "    [\n",
        "        keras.Input(shape=(latent_dim,)),\n",
        "        layers.Dense(37 * 37 * 128),\n",
        "        layers.Reshape((37, 37, 128)),\n",
        "        layers.Conv2DTranspose(128, kernel_size=4, strides=2, padding=\"same\"),\n",
        "        layers.LeakyReLU(alpha=0.2),\n",
        "        layers.Conv2DTranspose(256, kernel_size=4, strides=2, padding=\"same\"),\n",
        "        layers.LeakyReLU(alpha=0.2),\n",
        "        layers.Conv2DTranspose(512, kernel_size=4, strides=2, padding=\"same\"),\n",
        "        layers.LeakyReLU(alpha=0.2),\n",
        "        layers.Conv2D(3, kernel_size=5, padding=\"same\", activation=\"softmax\"),\n",
        "    ],\n",
        "    name=\"generator\",\n",
        ")\n",
        "generator.summary()\n"
      ],
      "metadata": {
        "id": "hi6lG4V7Siri",
        "colab": {
          "base_uri": "https://localhost:8080/"
        },
        "outputId": "40dfd0fb-b884-4a81-d6de-6abdb53b15a0"
      },
      "execution_count": 32,
      "outputs": [
        {
          "output_type": "stream",
          "name": "stdout",
          "text": [
            "Model: \"discriminator\"\n",
            "_________________________________________________________________\n",
            " Layer (type)                Output Shape              Param #   \n",
            "=================================================================\n",
            " conv2d_24 (Conv2D)          (None, 148, 148, 256)     12544     \n",
            "                                                                 \n",
            " leaky_re_lu_36 (LeakyReLU)  (None, 148, 148, 256)     0         \n",
            "                                                                 \n",
            " conv2d_25 (Conv2D)          (None, 74, 74, 128)       524416    \n",
            "                                                                 \n",
            " leaky_re_lu_37 (LeakyReLU)  (None, 74, 74, 128)       0         \n",
            "                                                                 \n",
            " conv2d_26 (Conv2D)          (None, 37, 37, 128)       262272    \n",
            "                                                                 \n",
            " leaky_re_lu_38 (LeakyReLU)  (None, 37, 37, 128)       0         \n",
            "                                                                 \n",
            " flatten_6 (Flatten)         (None, 175232)            0         \n",
            "                                                                 \n",
            " dropout_6 (Dropout)         (None, 175232)            0         \n",
            "                                                                 \n",
            " dense_12 (Dense)            (None, 1)                 175233    \n",
            "                                                                 \n",
            "=================================================================\n",
            "Total params: 974,465\n",
            "Trainable params: 974,465\n",
            "Non-trainable params: 0\n",
            "_________________________________________________________________\n",
            "Model: \"discriminator\"\n",
            "_________________________________________________________________\n",
            " Layer (type)                Output Shape              Param #   \n",
            "=================================================================\n",
            " conv2d_24 (Conv2D)          (None, 148, 148, 256)     12544     \n",
            "                                                                 \n",
            " leaky_re_lu_36 (LeakyReLU)  (None, 148, 148, 256)     0         \n",
            "                                                                 \n",
            " conv2d_25 (Conv2D)          (None, 74, 74, 128)       524416    \n",
            "                                                                 \n",
            " leaky_re_lu_37 (LeakyReLU)  (None, 74, 74, 128)       0         \n",
            "                                                                 \n",
            " conv2d_26 (Conv2D)          (None, 37, 37, 128)       262272    \n",
            "                                                                 \n",
            " leaky_re_lu_38 (LeakyReLU)  (None, 37, 37, 128)       0         \n",
            "                                                                 \n",
            " flatten_6 (Flatten)         (None, 175232)            0         \n",
            "                                                                 \n",
            " dropout_6 (Dropout)         (None, 175232)            0         \n",
            "                                                                 \n",
            " dense_12 (Dense)            (None, 1)                 175233    \n",
            "                                                                 \n",
            "=================================================================\n",
            "Total params: 974,465\n",
            "Trainable params: 974,465\n",
            "Non-trainable params: 0\n",
            "_________________________________________________________________\n",
            "Model: \"generator\"\n",
            "_________________________________________________________________\n",
            " Layer (type)                Output Shape              Param #   \n",
            "=================================================================\n",
            " dense_13 (Dense)            (None, 175232)            22604928  \n",
            "                                                                 \n",
            " reshape_6 (Reshape)         (None, 37, 37, 128)       0         \n",
            "                                                                 \n",
            " conv2d_transpose_18 (Conv2D  (None, 74, 74, 128)      262272    \n",
            " Transpose)                                                      \n",
            "                                                                 \n",
            " leaky_re_lu_39 (LeakyReLU)  (None, 74, 74, 128)       0         \n",
            "                                                                 \n",
            " conv2d_transpose_19 (Conv2D  (None, 148, 148, 256)    524544    \n",
            " Transpose)                                                      \n",
            "                                                                 \n",
            " leaky_re_lu_40 (LeakyReLU)  (None, 148, 148, 256)     0         \n",
            "                                                                 \n",
            " conv2d_transpose_20 (Conv2D  (None, 296, 296, 512)    2097664   \n",
            " Transpose)                                                      \n",
            "                                                                 \n",
            " leaky_re_lu_41 (LeakyReLU)  (None, 296, 296, 512)     0         \n",
            "                                                                 \n",
            " conv2d_27 (Conv2D)          (None, 296, 296, 3)       38403     \n",
            "                                                                 \n",
            "=================================================================\n",
            "Total params: 25,527,811\n",
            "Trainable params: 25,527,811\n",
            "Non-trainable params: 0\n",
            "_________________________________________________________________\n"
          ]
        }
      ]
    },
    {
      "cell_type": "code",
      "source": [
        "class GAN(keras.Model):\n",
        "    def __init__(self, discriminator, generator, latent_dim):\n",
        "        super().__init__()\n",
        "        self.discriminator = discriminator\n",
        "        self.generator = generator\n",
        "        self.latent_dim = latent_dim\n",
        "\n",
        "    def compile(self, d_optimizer, g_optimizer, loss_fn):\n",
        "        super().compile()\n",
        "        self.d_optimizer = d_optimizer\n",
        "        self.g_optimizer = g_optimizer\n",
        "        self.loss_fn = loss_fn\n",
        "        self.d_loss_metric = keras.metrics.Mean(name=\"d_loss\")\n",
        "        self.g_loss_metric = keras.metrics.Mean(name=\"g_loss\")\n",
        "\n",
        "    @property\n",
        "    def metrics(self):\n",
        "        return [self.d_loss_metric, self.g_loss_metric]\n",
        "\n",
        "    def train_step(self, real_images):\n",
        "        # Sample random points in the latent space\n",
        "        batch_size = tf.shape(real_images)[0]\n",
        "        random_latent_vectors = tf.random.normal(shape=(batch_size, self.latent_dim))\n",
        "\n",
        "        # Decode them to fake images\n",
        "        generated_images = self.generator(random_latent_vectors)\n",
        "\n",
        "        # Combine them with real images\n",
        "        combined_images = tf.concat([generated_images, real_images], axis=0)\n",
        "\n",
        "        # Assemble labels discriminating real from fake images\n",
        "        labels = tf.concat(\n",
        "            [tf.ones((batch_size, 1)), tf.zeros((batch_size, 1))], axis=0\n",
        "        )\n",
        "        # Add random noise to the labels - important trick!\n",
        "        labels += 0.05 * tf.random.uniform(tf.shape(labels))\n",
        "\n",
        "        # Train the discriminator\n",
        "        with tf.GradientTape() as tape:\n",
        "            predictions = self.discriminator(combined_images)\n",
        "            d_loss = self.loss_fn(labels, predictions)\n",
        "        grads = tape.gradient(d_loss, self.discriminator.trainable_weights)\n",
        "        self.d_optimizer.apply_gradients(\n",
        "            zip(grads, self.discriminator.trainable_weights)\n",
        "        )\n",
        "\n",
        "        # Sample random points in the latent space\n",
        "        random_latent_vectors = tf.random.normal(shape=(batch_size, self.latent_dim))\n",
        "\n",
        "        # Assemble labels that say \"all real images\"\n",
        "        misleading_labels = tf.zeros((batch_size, 1))\n",
        "\n",
        "        # Train the generator (note that we should *not* update the weights\n",
        "        # of the discriminator)!\n",
        "        with tf.GradientTape() as tape:\n",
        "            predictions = self.discriminator(self.generator(random_latent_vectors))\n",
        "            g_loss = self.loss_fn(misleading_labels, predictions)\n",
        "        grads = tape.gradient(g_loss, self.generator.trainable_weights)\n",
        "        self.g_optimizer.apply_gradients(zip(grads, self.generator.trainable_weights))\n",
        "\n",
        "        # Update metrics\n",
        "        self.d_loss_metric.update_state(d_loss)\n",
        "        self.g_loss_metric.update_state(g_loss)\n",
        "        return {\n",
        "            \"d_loss\": self.d_loss_metric.result(),\n",
        "            \"g_loss\": self.g_loss_metric.result(),\n",
        "        }\n"
      ],
      "metadata": {
        "id": "ySIPqDcuSmcD"
      },
      "execution_count": 33,
      "outputs": []
    },
    {
      "cell_type": "code",
      "source": [
        "class GANMonitor(keras.callbacks.Callback):\n",
        "    def __init__(self, num_img=3, latent_dim=128):\n",
        "        self.num_img = num_img\n",
        "        self.latent_dim = latent_dim\n",
        "\n",
        "    def on_epoch_end(self, epoch, logs=None):\n",
        "        random_latent_vectors = tf.random.normal(shape=(self.num_img, self.latent_dim))\n",
        "        generated_images = self.model.generator(random_latent_vectors)\n",
        "        generated_images *= 255\n",
        "        generated_images.numpy()\n",
        "        for i in range(self.num_img):\n",
        "            img = tf.keras.preprocessing.image.array_to_img(generated_images[i])\n",
        "            img.save(\"generated_img_%03d_%d.png\" % (epoch, i))"
      ],
      "metadata": {
        "id": "ELzgXu-lSrZg"
      },
      "execution_count": 44,
      "outputs": []
    },
    {
      "cell_type": "code",
      "source": [
        "epochs = 1  # In practice, use ~100 epochs\n",
        "\n",
        "gan = GAN(discriminator=discriminator, generator=generator, latent_dim=latent_dim)\n",
        "gan.compile(\n",
        "    d_optimizer=keras.optimizers.Adam(learning_rate=0.0001),\n",
        "    g_optimizer=keras.optimizers.Adam(learning_rate=0.0001),\n",
        "    loss_fn=keras.losses.BinaryCrossentropy(),\n",
        ")\n",
        "\n",
        "gan.fit(\n",
        "    X, epochs=epochs, callbacks=[GANMonitor(num_img=10, latent_dim=latent_dim)]\n",
        ")"
      ],
      "metadata": {
        "id": "EJgeeK-GTaM4",
        "colab": {
          "base_uri": "https://localhost:8080/"
        },
        "outputId": "cfb03da9-605e-442c-8b60-f6f5f742d737"
      },
      "execution_count": 45,
      "outputs": [
        {
          "output_type": "stream",
          "name": "stderr",
          "text": [
            "WARNING:tensorflow:5 out of the last 5 calls to <function Model.make_train_function.<locals>.train_function at 0x7f27062cc280> triggered tf.function retracing. Tracing is expensive and the excessive number of tracings could be due to (1) creating @tf.function repeatedly in a loop, (2) passing tensors with different shapes, (3) passing Python objects instead of tensors. For (1), please define your @tf.function outside of the loop. For (2), @tf.function has reduce_retracing=True option that can avoid unnecessary retracing. For (3), please refer to https://www.tensorflow.org/guide/function#controlling_retracing and https://www.tensorflow.org/api_docs/python/tf/function for  more details.\n"
          ]
        },
        {
          "output_type": "stream",
          "name": "stdout",
          "text": [
            "1/1 [==============================] - 178s 178s/step - d_loss: 0.3159 - g_loss: 5.0212\n"
          ]
        },
        {
          "output_type": "execute_result",
          "data": {
            "text/plain": [
              "<keras.callbacks.History at 0x7f26f9f07160>"
            ]
          },
          "metadata": {},
          "execution_count": 45
        }
      ]
    },
    {
      "cell_type": "code",
      "source": [],
      "metadata": {
        "id": "nCr_ZB_USG_s"
      },
      "execution_count": null,
      "outputs": []
    }
  ]
}